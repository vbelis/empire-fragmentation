{
 "cells": [
  {
   "cell_type": "markdown",
   "source": [
    "# Fragmentation of an empire\n",
    "This notebook is used to define the parameters of the model, run the simulation, and extract insights by plotting variables of interest."
   ],
   "metadata": {}
  },
  {
   "cell_type": "code",
   "execution_count": 1,
   "source": [
    "# YOUR IMPORTS HERE ....\n",
    "%matplotlib inline\n",
    "import matplotlib.pyplot as plt\n",
    "\n",
    "## Without autoreload, you necessarily have to restart the notebook kernel\n",
    "## when you make changes in the imported .py modules of the model.\n",
    "## See the docs:\n",
    "##    https://ipython.readthedocs.io/en/stable/config/extensions/autoreload.html\n",
    "%reload_ext autoreload\n",
    "%autoreload 2\n",
    "\n",
    "import numpy as np\n",
    "from random import sample\n",
    "\n",
    "from model import VoterModel"
   ],
   "outputs": [],
   "metadata": {}
  },
  {
   "cell_type": "code",
   "execution_count": 2,
   "source": [
    "## SET THE PARAMETERS\n",
    "params = {\"width\": 50, \n",
    "          \"height\": 50,\n",
    "          \"percentage_of_cops\":0.3,\n",
    "          \"percent_of_citizens\":0.6\n",
    "         }\n",
    "\n",
    "## DEFINE THE MODEL \n",
    "votermodel = VoterModel(**params)"
   ],
   "outputs": [],
   "metadata": {}
  },
  {
   "cell_type": "code",
   "execution_count": 3,
   "source": [
    "## RUN THE MODEL\n",
    "votermodel.run_model()"
   ],
   "outputs": [],
   "metadata": {}
  },
  {
   "cell_type": "code",
   "execution_count": 4,
   "source": [
    "mean_opinion = votermodel.datacollector.get_model_vars_dataframe() ## GET THE FINAL OPINION\n",
    "a=mean_opinion.values\n",
    "len(a)\n",
    "active=list()\n",
    "passive=list()\n",
    "cops=list()\n",
    "for i in range(len(a)):\n",
    "    active.append(a[i][0][0])\n",
    "    passive.append(a[i][0][1])\n",
    "    cops.append(a[i][0][2])\n",
    "#print(active)\n",
    "#mean_opinion.plot()\n",
    "plt.plot(range(len(active)),active)\n",
    "plt.plot(range(len(passive)),passive)\n",
    "plt.plot(range(len(cops)),cops)\n",
    "plt.show()"
   ],
   "outputs": [
    {
     "output_type": "display_data",
     "data": {
      "text/plain": [
       "<Figure size 432x288 with 1 Axes>"
      ],
      "image/png": "[encoded data removed]"
     },
     "metadata": {
      "needs_background": "light"
     }
    }
   ],
   "metadata": {}
  },
  {
   "cell_type": "code",
   "execution_count": 10,
   "source": [
    "agent_opinions = votermodel.datacollector.get_agent_vars_dataframe()"
   ],
   "outputs": [],
   "metadata": {}
  },
  {
   "cell_type": "code",
   "execution_count": 11,
   "source": [
    "agent_opinions"
   ],
   "outputs": [
    {
     "output_type": "execute_result",
     "data": {
      "text/plain": [
       "               Opinion\n",
       "Step AgentID          \n",
       "0    (0, 0)          3\n",
       "     (0, 1)          3\n",
       "     (0, 2)          3\n",
       "     (0, 3)          3\n",
       "     (0, 4)          3\n",
       "...                ...\n",
       "30   (49, 45)        2\n",
       "     (49, 46)        2\n",
       "     (49, 47)        2\n",
       "     (49, 48)        2\n",
       "     (49, 49)        2\n",
       "\n",
       "[69905 rows x 1 columns]"
      ],
      "text/html": [
       "<div>\n",
       "<style scoped>\n",
       "    .dataframe tbody tr th:only-of-type {\n",
       "        vertical-align: middle;\n",
       "    }\n",
       "\n",
       "    .dataframe tbody tr th {\n",
       "        vertical-align: top;\n",
       "    }\n",
       "\n",
       "    .dataframe thead th {\n",
       "        text-align: right;\n",
       "    }\n",
       "</style>\n",
       "<table border=\"1\" class=\"dataframe\">\n",
       "  <thead>\n",
       "    <tr style=\"text-align: right;\">\n",
       "      <th></th>\n",
       "      <th></th>\n",
       "      <th>Opinion</th>\n",
       "    </tr>\n",
       "    <tr>\n",
       "      <th>Step</th>\n",
       "      <th>AgentID</th>\n",
       "      <th></th>\n",
       "    </tr>\n",
       "  </thead>\n",
       "  <tbody>\n",
       "    <tr>\n",
       "      <th rowspan=\"5\" valign=\"top\">0</th>\n",
       "      <th>(0, 0)</th>\n",
       "      <td>3</td>\n",
       "    </tr>\n",
       "    <tr>\n",
       "      <th>(0, 1)</th>\n",
       "      <td>3</td>\n",
       "    </tr>\n",
       "    <tr>\n",
       "      <th>(0, 2)</th>\n",
       "      <td>3</td>\n",
       "    </tr>\n",
       "    <tr>\n",
       "      <th>(0, 3)</th>\n",
       "      <td>3</td>\n",
       "    </tr>\n",
       "    <tr>\n",
       "      <th>(0, 4)</th>\n",
       "      <td>3</td>\n",
       "    </tr>\n",
       "    <tr>\n",
       "      <th>...</th>\n",
       "      <th>...</th>\n",
       "      <td>...</td>\n",
       "    </tr>\n",
       "    <tr>\n",
       "      <th rowspan=\"5\" valign=\"top\">30</th>\n",
       "      <th>(49, 45)</th>\n",
       "      <td>2</td>\n",
       "    </tr>\n",
       "    <tr>\n",
       "      <th>(49, 46)</th>\n",
       "      <td>2</td>\n",
       "    </tr>\n",
       "    <tr>\n",
       "      <th>(49, 47)</th>\n",
       "      <td>2</td>\n",
       "    </tr>\n",
       "    <tr>\n",
       "      <th>(49, 48)</th>\n",
       "      <td>2</td>\n",
       "    </tr>\n",
       "    <tr>\n",
       "      <th>(49, 49)</th>\n",
       "      <td>2</td>\n",
       "    </tr>\n",
       "  </tbody>\n",
       "</table>\n",
       "<p>69905 rows × 1 columns</p>\n",
       "</div>"
      ]
     },
     "metadata": {},
     "execution_count": 11
    }
   ],
   "metadata": {}
  }
 ],
 "metadata": {
  "interpreter": {
   "hash": "e902087417d23af9e3f238298e489db20d05e1d424133c2c5f5ffb1eb89a6dc4"
  },
  "kernelspec": {
   "name": "python3",
   "display_name": "Python 3.10.4 64-bit ('abm_m1': conda)"
  },
  "language_info": {
   "codemirror_mode": {
    "name": "ipython",
    "version": 3
   },
   "file_extension": ".py",
   "mimetype": "text/x-python",
   "name": "python",
   "nbconvert_exporter": "python",
   "pygments_lexer": "ipython3",
   "version": "3.10.4"
  }
 },
 "nbformat": 4,
 "nbformat_minor": 2
}