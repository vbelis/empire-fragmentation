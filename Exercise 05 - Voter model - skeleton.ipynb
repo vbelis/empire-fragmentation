{
 "cells": [
  {
   "cell_type": "markdown",
   "source": [
    "# Exercise 5: Voter model\n",
    "\n",
    "\n",
    "\n",
    "### Learning objectives\n",
    "1. Internalise the understanding of Voter model with hand-on experience\n",
    "2. Observe the difference between deterministic and stochastic dynamics \n",
    "3. Analyse the ABM by means of individual and collective statistics\n",
    "4. Mesa: `DataCollector` class that helps to collect the dinamics data from the model (difference with `BatchRunner`?)\n",
    "5. Data manipulation and plotting in `pandas`\n",
    "\n",
    "### Tasks\n",
    "1. **Complete the code for agent opinion for `deterministic` and `linear` dynamics**  \n",
    "    Inspect the code provided to you.\n",
    "    You find incomplete code stubs starting on the line 46 in `agent-skeleton.py`, which you should complete.\n",
    "    Once ready, save the file as `agent.py`\n",
    "\n",
    "1. **Learn how to use `DataCollector` in Mesa**  \n",
    "    Read the corresponding section in the Mesa Intro tutorial: https://mesa.readthedocs.io/en/master/tutorials/intro_tutorial.html#collecting-data  \n",
    "\n",
    "1. **Complete `mean_opinion` function in `model-skeleton.py`**  \n",
    "    This function (to be defined starging on line 10) is used by the `DataCollector`, as you can see in the `VoterModel` class definition.\n",
    "    It is supposed to compute and return the average opinion (basically, the share between opinions 1 and 0) in the model.\n",
    "    Once done, save the file as `model.py`  \n",
    "    \n",
    "1. **Test your implementation**  \n",
    "    With the above completed, you can run the model and view its dynamics.  \n",
    "    You can do so by running the `run.py` file by, e.g., calling `python3 run.py` in the terminal (system dependent).  \n",
    "    Play with the model parameters defined in `server.py`, in the `params` dictionary.\n",
    "    1. What happens if you increase the initial  fraction of the opinion 1 (parameter `prob_one`) for deterministic and linear cases?\n",
    "    1. What happens in the case of *deterministic minority rule*?  \n",
    "\n",
    "1. **Plot the time series of the model and agent dynamics**  \n",
    "    It is time to use the DataCollector funcionality.  \n",
    "    Here, in this notebook:\n",
    "    1. Plot the evolution of the mean opinion over the runtime of the model (see the into tutorial linked above).  \n",
    "        How can you interpret the result?  \n",
    "        How does the outcome change if you change the model parameters?  \n",
    "        \n",
    "    1. Plot the dynamics of the individual agents of the runtime of the model.  \n",
    "        For this task, refer to the documentation of `pandas` package because `DataCollector` provides you with a so called `DataFrame`, which is the core of `pandas`.  \n",
    "        The corresponding data frame is called `agent_opinions` in the code skeleton below.  \n",
    "        If you print it, you will see that it has two nested index columns, one for the time step, the other for the agent.\n",
    "        What you want is to have one plot, where on x axis we have the model time, and on the y axis we have agent opinion, for multiple agenst.\n",
    "        Hint: plot the opinions of only a small number of agents, to avoid a very messy outcome.  \n",
    "    \n",
    "1. **Reproduce the phase diagram shown in slide 05 of lecture 05**      "
   ],
   "metadata": {}
  },
  {
   "cell_type": "code",
   "execution_count": 1,
   "source": [
    "# YOUR IMPORTS HERE ....\n",
    "%matplotlib inline\n",
    "import matplotlib.pyplot as plt\n",
    "\n",
    "## Without autoreload, you necessarily have to restart the notebook kernel\n",
    "## when you make changes in the imported .py modules of the model.\n",
    "## See the docs:\n",
    "##    https://ipython.readthedocs.io/en/stable/config/extensions/autoreload.html\n",
    "%reload_ext autoreload\n",
    "%autoreload 2\n",
    "\n",
    "import numpy as np\n",
    "from random import sample\n",
    "\n",
    "from model import VoterModel"
   ],
   "outputs": [],
   "metadata": {}
  },
  {
   "cell_type": "markdown",
   "source": [
    "## Task 5.A"
   ],
   "metadata": {}
  },
  {
   "cell_type": "code",
   "execution_count": 7,
   "source": [
    "## SET THE PARAMETERS\n",
    "params = {\"width\": 50, \n",
    "          \"height\": 50,\n",
    "          \"percentage_of_cops\":0.3,\n",
    "          \"percent_of_citizens\":0.6\n",
    "         }\n",
    "\n",
    "## DEFINE THE MODEL \n",
    "votermodel = VoterModel(**params)"
   ],
   "outputs": [],
   "metadata": {}
  },
  {
   "cell_type": "code",
   "execution_count": 8,
   "source": [
    "## RUN THE MODEL\n",
    "votermodel.run_model()"
   ],
   "outputs": [],
   "metadata": {}
  },
  {
   "cell_type": "code",
   "execution_count": 9,
   "source": [
    "mean_opinion = votermodel.datacollector.get_model_vars_dataframe() ## GET THE FINAL OPINION\n",
    "a=mean_opinion.values\n",
    "len(a)\n",
    "active=list()\n",
    "passive=list()\n",
    "cops=list()\n",
    "for i in range(len(a)):\n",
    "    active.append(a[i][0][0])\n",
    "    passive.append(a[i][0][1])\n",
    "    cops.append(a[i][0][2])\n",
    "#print(active)\n",
    "#mean_opinion.plot()\n",
    "plt.plot(range(len(active)),active)\n",
    "plt.plot(range(len(passive)),passive)\n",
    "plt.plot(range(len(cops)),cops)\n",
    "plt.show()"
   ],
   "outputs": [
    {
     "output_type": "display_data",
     "data": {
      "text/plain": [
       "<Figure size 432x288 with 1 Axes>"
      ],
      "image/png": "[encoded data removed]"
     },
     "metadata": {
      "needs_background": "light"
     }
    }
   ],
   "metadata": {}
  },
  {
   "cell_type": "markdown",
   "source": [
    "## Task 5.B"
   ],
   "metadata": {}
  },
  {
   "cell_type": "code",
   "execution_count": 10,
   "source": [
    "agent_opinions = votermodel.datacollector.get_agent_vars_dataframe()"
   ],
   "outputs": [],
   "metadata": {}
  },
  {
   "cell_type": "code",
   "execution_count": 11,
   "source": [
    "agent_opinions"
   ],
   "outputs": [
    {
     "output_type": "execute_result",
     "data": {
      "text/plain": [
       "               Opinion\n",
       "Step AgentID          \n",
       "0    (0, 0)          3\n",
       "     (0, 1)          3\n",
       "     (0, 2)          3\n",
       "     (0, 3)          3\n",
       "     (0, 4)          3\n",
       "...                ...\n",
       "30   (49, 45)        2\n",
       "     (49, 46)        2\n",
       "     (49, 47)        2\n",
       "     (49, 48)        2\n",
       "     (49, 49)        2\n",
       "\n",
       "[69905 rows x 1 columns]"
      ],
      "text/html": [
       "<div>\n",
       "<style scoped>\n",
       "    .dataframe tbody tr th:only-of-type {\n",
       "        vertical-align: middle;\n",
       "    }\n",
       "\n",
       "    .dataframe tbody tr th {\n",
       "        vertical-align: top;\n",
       "    }\n",
       "\n",
       "    .dataframe thead th {\n",
       "        text-align: right;\n",
       "    }\n",
       "</style>\n",
       "<table border=\"1\" class=\"dataframe\">\n",
       "  <thead>\n",
       "    <tr style=\"text-align: right;\">\n",
       "      <th></th>\n",
       "      <th></th>\n",
       "      <th>Opinion</th>\n",
       "    </tr>\n",
       "    <tr>\n",
       "      <th>Step</th>\n",
       "      <th>AgentID</th>\n",
       "      <th></th>\n",
       "    </tr>\n",
       "  </thead>\n",
       "  <tbody>\n",
       "    <tr>\n",
       "      <th rowspan=\"5\" valign=\"top\">0</th>\n",
       "      <th>(0, 0)</th>\n",
       "      <td>3</td>\n",
       "    </tr>\n",
       "    <tr>\n",
       "      <th>(0, 1)</th>\n",
       "      <td>3</td>\n",
       "    </tr>\n",
       "    <tr>\n",
       "      <th>(0, 2)</th>\n",
       "      <td>3</td>\n",
       "    </tr>\n",
       "    <tr>\n",
       "      <th>(0, 3)</th>\n",
       "      <td>3</td>\n",
       "    </tr>\n",
       "    <tr>\n",
       "      <th>(0, 4)</th>\n",
       "      <td>3</td>\n",
       "    </tr>\n",
       "    <tr>\n",
       "      <th>...</th>\n",
       "      <th>...</th>\n",
       "      <td>...</td>\n",
       "    </tr>\n",
       "    <tr>\n",
       "      <th rowspan=\"5\" valign=\"top\">30</th>\n",
       "      <th>(49, 45)</th>\n",
       "      <td>2</td>\n",
       "    </tr>\n",
       "    <tr>\n",
       "      <th>(49, 46)</th>\n",
       "      <td>2</td>\n",
       "    </tr>\n",
       "    <tr>\n",
       "      <th>(49, 47)</th>\n",
       "      <td>2</td>\n",
       "    </tr>\n",
       "    <tr>\n",
       "      <th>(49, 48)</th>\n",
       "      <td>2</td>\n",
       "    </tr>\n",
       "    <tr>\n",
       "      <th>(49, 49)</th>\n",
       "      <td>2</td>\n",
       "    </tr>\n",
       "  </tbody>\n",
       "</table>\n",
       "<p>69905 rows × 1 columns</p>\n",
       "</div>"
      ]
     },
     "metadata": {},
     "execution_count": 11
    }
   ],
   "metadata": {}
  },
  {
   "cell_type": "markdown",
   "source": [
    "## Task 5.C"
   ],
   "metadata": {}
  },
  {
   "cell_type": "code",
   "execution_count": null,
   "source": [
    "initial_f = np.linspace(0,1,20)\n",
    "no_sim = 10 # number of simulations"
   ],
   "outputs": [],
   "metadata": {}
  },
  {
   "cell_type": "code",
   "execution_count": null,
   "source": [
    "# run no_sim simulations for each initial value in initial_f\n",
    "# suggestion: use a smaller grid to be faster"
   ],
   "outputs": [],
   "metadata": {}
  },
  {
   "cell_type": "code",
   "execution_count": null,
   "source": [
    "# from https://matplotlib.org/2.0.2/examples/mplot3d/hist3d_demo.html\n",
    "from mpl_toolkits.mplot3d import Axes3D\n",
    "fig = plt.figure()\n",
    "ax = fig.add_subplot(111, projection='3d')\n",
    "x = # order_parameter_M\n",
    "y = # initial fraction of agent with opinion 1\n",
    "hist, xedges, yedges = np.histogram2d(x, y, bins=10, range=[[-1, 1], [0, 1]], density=True)\n",
    "\n",
    "# Construct arrays for the anchor positions of the 16 bars.\n",
    "# Note: np.meshgrid gives arrays in (ny, nx) so we use 'F' to flatten xpos,\n",
    "# ypos in column-major order. For numpy >= 1.7, we could instead call meshgrid\n",
    "# with indexing='ij'.\n",
    "xpos, ypos = np.meshgrid(xedges[:-1] , yedges[:-1])\n",
    "xpos = xpos.flatten('F')\n",
    "ypos = ypos.flatten('F')\n",
    "zpos = np.zeros_like(xpos)\n",
    "\n",
    "# Construct arrays with the dimensions for the 16 bars.\n",
    "dx = 0.2 * np.ones_like(zpos)\n",
    "dy = dx.copy() \n",
    "dz = hist.flatten()\n",
    "\n",
    "ax.bar3d(xpos, ypos, zpos, dx, dy, dz, zsort='average', alpha =0.8)\n",
    "ax.set_ylabel(r\"$f\\,(0)$\", fontsize =14)\n",
    "ax.set_xlabel(r\"$M$\", fontsize =14)\n",
    "ax.set_xticks([-1,-0.5, 0, 0.5, 1])\n",
    "ax.set_yticks([0, 0.25, 0.5, 0.75, 1])"
   ],
   "outputs": [],
   "metadata": {}
  }
 ],
 "metadata": {
  "interpreter": {
   "hash": "e902087417d23af9e3f238298e489db20d05e1d424133c2c5f5ffb1eb89a6dc4"
  },
  "kernelspec": {
   "name": "python3",
   "display_name": "Python 3.10.4 64-bit ('abm_m1': conda)"
  },
  "language_info": {
   "codemirror_mode": {
    "name": "ipython",
    "version": 3
   },
   "file_extension": ".py",
   "mimetype": "text/x-python",
   "name": "python",
   "nbconvert_exporter": "python",
   "pygments_lexer": "ipython3",
   "version": "3.10.4"
  }
 },
 "nbformat": 4,
 "nbformat_minor": 2
}