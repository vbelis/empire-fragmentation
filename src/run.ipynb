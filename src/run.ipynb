{
 "cells": [
  {
   "cell_type": "markdown",
   "metadata": {},
   "source": [
    "# Fragmentation of an empire\n",
    "This notebook is used to define the parameters of the model, run the simulation, and extract insights by plotting variables of interest."
   ]
  },
  {
   "cell_type": "code",
   "execution_count": 1,
   "metadata": {},
   "outputs": [],
   "source": [
    "# YOUR IMPORTS HERE ....\n",
    "%matplotlib inline\n",
    "import matplotlib.pyplot as plt\n",
    "\n",
    "## Without autoreload, you necessarily have to restart the notebook kernel\n",
    "## when you make changes in the imported .py modules of the model.\n",
    "## See the docs:\n",
    "##    https://ipython.readthedocs.io/en/stable/config/extensions/autoreload.html\n",
    "%reload_ext autoreload\n",
    "%autoreload 2\n",
    "\n",
    "import numpy as np\n",
    "from random import sample\n",
    "from model import EmpireModel\n",
    "#np.random.seed(0)"
   ]
  },
  {
   "cell_type": "code",
   "execution_count": 2,
   "metadata": {},
   "outputs": [],
   "source": [
    "## SET THE PARAMETERS\n",
    "params = {\"width\": 50, \n",
    "          \"height\": 50,\n",
    "          \"percentage_of_cops\":0.3,\n",
    "          \"percent_of_citizens\":0.6,\n",
    "          \"jail_time\": 5,\n",
    "           'max_steps':100, \n",
    "           'government_legitimacy':0.84, \n",
    "           'decrease_legit':True,\n",
    "           'jail_time_random':False\n",
    "         }\n",
    "## DEFINE THE MODEL \n",
    "EmpireModel = EmpireModel(**params)"
   ]
  },
  {
   "cell_type": "code",
   "execution_count": 7,
   "metadata": {},
   "outputs": [],
   "source": [
    "## RUN THE MODEL\n",
    "EmpireModel.run_model()"
   ]
  },
  {
   "cell_type": "code",
   "execution_count": 4,
   "metadata": {},
   "outputs": [
    {
     "name": "stdout",
     "output_type": "stream",
     "text": [
      "     Rebels  Pro-empire  Prisoners  Propagandists  Government Legitemicy  \\\n",
      "0         0        1328          0            920           8.400000e-01   \n",
      "1       466         862          0            920           8.316000e-01   \n",
      "2       401         825        102            920           8.232000e-01   \n",
      "3       324         784        220            920           8.148000e-01   \n",
      "4       257         753        318            920           8.064000e-01   \n",
      "..      ...         ...        ...            ...                    ...   \n",
      "96      419         257        652            920           3.360000e-02   \n",
      "97      419         244        665            920           2.520000e-02   \n",
      "98      412         249        667            920           1.680000e-02   \n",
      "99      409         240        679            920           8.400000e-03   \n",
      "100     393         267        668            920           1.009609e-15   \n",
      "\n",
      "     Griviance  \n",
      "0     0.079592  \n",
      "1     0.079592  \n",
      "2     0.083771  \n",
      "3     0.087949  \n",
      "4     0.092128  \n",
      "..         ...  \n",
      "96    0.476557  \n",
      "97    0.480735  \n",
      "98    0.484914  \n",
      "99    0.489093  \n",
      "100   0.493271  \n",
      "\n",
      "[101 rows x 6 columns]\n"
     ]
    }
   ],
   "source": [
    "agent_states = EmpireModel.datacollector.get_model_vars_dataframe() ## GET THE FINAL OPINION\n",
    "a=agent_states.values\n",
    "print(agent_states)\n",
    "\n"
   ]
  },
  {
   "cell_type": "code",
   "execution_count": 3,
   "metadata": {},
   "outputs": [
    {
     "name": "stdout",
     "output_type": "stream",
     "text": [
      "{'height': 50, 'width': 50, 'jail_time': 10, 'decrease_legit': False, 'jail_time_random': False, 'percentage_of_cops': 0.1, 'percent_of_citizens': 0.6, 'government_legitimacy': 0.85, 'max_steps': 25, 'data_collection_period': 24}\n"
     ]
    }
   ],
   "source": [
    "param_set = dict(height=50, # Height and width are constant\n",
    "                 width=50,\n",
    "                 jail_time= 10,\n",
    "                 \n",
    "                 decrease_legit =False,\n",
    "                 jail_time_random=False,\n",
    "                 # Vary density from 0.01 to 1, in 0.01 increments:\n",
    "                 percentage_of_cops=0.1,#np.linspace(0,0.1,3)[1:],\n",
    "                 percent_of_citizens=0.6,#np.linspace(0,0.7,21)[1:],\n",
    "                 government_legitimacy=0.85,\n",
    "                 max_steps=25)#np.linspace(0,1,101)[1:])\n",
    "\n",
    "print(param_set)\n"
   ]
  },
  {
   "cell_type": "code",
   "execution_count": 4,
   "metadata": {},
   "outputs": [
    {
     "name": "stderr",
     "output_type": "stream",
     "text": [
      "0it [00:00, ?it/s]\n"
     ]
    }
   ],
   "source": [
    "from mesa.batchrunner import batch_run\n",
    "from mesa.batchrunner import FixedBatchRunner\n",
    "param_run = batch_run(EmpireModel, param_set,iterations= 1,data_collection_period=24)#, max_steps=1) #batch_run\n",
    "print(len(param_run))\n",
    "print()"
   ]
  },
  {
   "cell_type": "code",
   "execution_count": 7,
   "metadata": {},
   "outputs": [
    {
     "name": "stderr",
     "output_type": "stream",
     "text": [
      "0it [00:00, ?it/s]\n"
     ]
    }
   ],
   "source": []
  },
  {
   "cell_type": "code",
   "execution_count": 9,
   "metadata": {},
   "outputs": [
    {
     "ename": "AttributeError",
     "evalue": "'list' object has no attribute 'run_all'",
     "output_type": "error",
     "traceback": [
      "\u001b[0;31m---------------------------------------------------------------------------\u001b[0m",
      "\u001b[0;31mAttributeError\u001b[0m                            Traceback (most recent call last)",
      "Input \u001b[0;32mIn [9]\u001b[0m, in \u001b[0;36m<cell line: 1>\u001b[0;34m()\u001b[0m\n\u001b[0;32m----> 1\u001b[0m \u001b[43mparam_run\u001b[49m\u001b[38;5;241;43m.\u001b[39;49m\u001b[43mrun_all\u001b[49m()\n",
      "\u001b[0;31mAttributeError\u001b[0m: 'list' object has no attribute 'run_all'"
     ]
    }
   ],
   "source": [
    "param_run.run_all()\n",
    "#df = param_run.get_model_vars_dataframe()"
   ]
  }
 ],
 "metadata": {
  "interpreter": {
   "hash": "9cd93536abe8f9100f1f57f88b5fba9aaaedfc3bf3bb13222998ca644db6391f"
  },
  "kernelspec": {
   "display_name": "Python 3.8.12 64-bit ('ABM': conda)",
   "name": "python3"
  },
  "language_info": {
   "codemirror_mode": {
    "name": "ipython",
    "version": 3
   },
   "file_extension": ".py",
   "mimetype": "text/x-python",
   "name": "python",
   "nbconvert_exporter": "python",
   "pygments_lexer": "ipython3",
   "version": "3.8.12"
  }
 },
 "nbformat": 4,
 "nbformat_minor": 2
}
